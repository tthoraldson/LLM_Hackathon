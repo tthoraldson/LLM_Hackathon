{
  "nbformat": 4,
  "nbformat_minor": 0,
  "metadata": {
    "colab": {
      "provenance": [],
      "authorship_tag": "ABX9TyOkxmKTkwIUK4PxgPxlMz7k",
      "include_colab_link": true
    },
    "kernelspec": {
      "name": "python3",
      "display_name": "Python 3"
    },
    "language_info": {
      "name": "python"
    }
  },
  "cells": [
    {
      "cell_type": "markdown",
      "metadata": {
        "id": "view-in-github",
        "colab_type": "text"
      },
      "source": [
        "<a href=\"https://colab.research.google.com/github/tthoraldson/LLM_Hackathon/blob/main/notebooks/openai_prompt_playground.ipynb\" target=\"_parent\"><img src=\"https://colab.research.google.com/assets/colab-badge.svg\" alt=\"Open In Colab\"/></a>"
      ]
    },
    {
      "cell_type": "markdown",
      "source": [
        "# Apart LLM Hackathon // September 2022"
      ],
      "metadata": {
        "id": "-nIwsAMqNMNt"
      }
    },
    {
      "cell_type": "markdown",
      "source": [
        "### Setup"
      ],
      "metadata": {
        "id": "xSM26AT8hOsi"
      }
    },
    {
      "cell_type": "code",
      "source": [
        "# pip installs\n",
        "!pip install openai"
      ],
      "metadata": {
        "id": "UjrT89eVNae2"
      },
      "execution_count": null,
      "outputs": []
    },
    {
      "cell_type": "code",
      "source": [
        "# imports\n",
        "import os\n",
        "import openai\n",
        "from getpass import getpass"
      ],
      "metadata": {
        "id": "kw5sK8w6MHT5"
      },
      "execution_count": 5,
      "outputs": []
    },
    {
      "cell_type": "markdown",
      "source": [
        "### OpenAI creds\n",
        "- [Find your org key](https://beta.openai.com/account/org-settings)\n",
        "- [Find your secret key](https://beta.openai.com/account/api-keys)"
      ],
      "metadata": {
        "id": "y-EIeZ3Cg4EJ"
      }
    },
    {
      "cell_type": "code",
      "source": [
        "# secrets\n",
        "openai_org = getpass('Enter OpenAI Org: ')\n",
        "openai_key = getpass('Enter OpenAI Key: ')"
      ],
      "metadata": {
        "colab": {
          "base_uri": "https://localhost:8080/"
        },
        "id": "v64MH1Cueczo",
        "outputId": "47cd149e-5184-4d92-e040-972170488eab"
      },
      "execution_count": 9,
      "outputs": [
        {
          "name": "stdout",
          "output_type": "stream",
          "text": [
            "Enter OpenAI Org: ··········\n",
            "Enter OpenAI Key: ··········\n"
          ]
        }
      ]
    },
    {
      "cell_type": "code",
      "source": [
        "# env setup\n",
        "openai.organization = openai_org\n",
        "openai.api_key = openai_key"
      ],
      "metadata": {
        "id": "EcuMgp_CeEAH"
      },
      "execution_count": 12,
      "outputs": []
    },
    {
      "cell_type": "code",
      "source": [
        "response = openai.Completion.create(\n",
        "    model='text-davinci-002',\n",
        "    prompt='Do you belive humans are moral? Why?',\n",
        "    temperature=0,\n",
        "    max_tokens=64,\n",
        "    top_p=1.0,\n",
        "    frequency_penalty=0.0,\n",
        "    presence_penalty=0.0\n",
        ")"
      ],
      "metadata": {
        "id": "tXZ_VKrKiPg4"
      },
      "execution_count": 13,
      "outputs": []
    },
    {
      "cell_type": "code",
      "source": [
        "response[\"choices\"][0][\"text\"]"
      ],
      "metadata": {
        "colab": {
          "base_uri": "https://localhost:8080/",
          "height": 89
        },
        "id": "Tl3BHlZDiwT_",
        "outputId": "ace53500-f758-4c5c-9d60-08b9c28738a7"
      },
      "execution_count": 17,
      "outputs": [
        {
          "output_type": "execute_result",
          "data": {
            "text/plain": [
              "\"\\n\\nThere is no definitive answer to this question as morality is subjective. Some people may believe that humans are innately moral beings, while others may believe that morality is something that is learned through experience. There are many different factors that can influence someone's opinion on this topic, so it is ultimately up to the individual\""
            ],
            "application/vnd.google.colaboratory.intrinsic+json": {
              "type": "string"
            }
          },
          "metadata": {},
          "execution_count": 17
        }
      ]
    },
    {
      "cell_type": "markdown",
      "source": [
        "### Sources used\n",
        "- [Example Request from OpenAI](https://beta.openai.com/examples/default-classification)"
      ],
      "metadata": {
        "id": "CzSlnv8kjJwZ"
      }
    }
  ]
}