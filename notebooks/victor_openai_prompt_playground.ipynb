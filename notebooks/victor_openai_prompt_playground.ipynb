{
  "nbformat": 4,
  "nbformat_minor": 0,
  "metadata": {
    "colab": {
      "provenance": [],
      "collapsed_sections": []
    },
    "kernelspec": {
      "name": "python3",
      "display_name": "Python 3"
    },
    "language_info": {
      "name": "python"
    }
  },
  "cells": [
    {
      "cell_type": "markdown",
      "source": [
        "# Apart LLM Hackathon // September 2022\n",
        "### Members\n",
        "- Theresa Thoraldson\n",
        "- Chris Lons\n",
        "- Richard Annilo\n",
        "- Victor levoso"
      ],
      "metadata": {
        "id": "-nIwsAMqNMNt"
      }
    },
    {
      "cell_type": "markdown",
      "source": [
        "### Setup"
      ],
      "metadata": {
        "id": "xSM26AT8hOsi"
      }
    },
    {
      "cell_type": "code",
      "source": [
        "# pip installs\n",
        "!pip install openai"
      ],
      "metadata": {
        "id": "UjrT89eVNae2",
        "colab": {
          "base_uri": "https://localhost:8080/"
        },
        "outputId": "319e24ab-9406-49f6-b14e-87c9a0624cd4"
      },
      "execution_count": null,
      "outputs": [
        {
          "output_type": "stream",
          "name": "stdout",
          "text": [
            "Looking in indexes: https://pypi.org/simple, https://us-python.pkg.dev/colab-wheels/public/simple/\n",
            "Requirement already satisfied: openai in /usr/local/lib/python3.7/dist-packages (0.23.1)\n",
            "Requirement already satisfied: tqdm in /usr/local/lib/python3.7/dist-packages (from openai) (4.64.1)\n",
            "Requirement already satisfied: numpy in /usr/local/lib/python3.7/dist-packages (from openai) (1.21.6)\n",
            "Requirement already satisfied: requests>=2.20 in /usr/local/lib/python3.7/dist-packages (from openai) (2.23.0)\n",
            "Requirement already satisfied: openpyxl>=3.0.7 in /usr/local/lib/python3.7/dist-packages (from openai) (3.0.10)\n",
            "Requirement already satisfied: pandas-stubs>=1.1.0.11 in /usr/local/lib/python3.7/dist-packages (from openai) (1.2.0.62)\n",
            "Requirement already satisfied: typing-extensions in /usr/local/lib/python3.7/dist-packages (from openai) (4.1.1)\n",
            "Requirement already satisfied: pandas>=1.2.3 in /usr/local/lib/python3.7/dist-packages (from openai) (1.3.5)\n",
            "Requirement already satisfied: et-xmlfile in /usr/local/lib/python3.7/dist-packages (from openpyxl>=3.0.7->openai) (1.1.0)\n",
            "Requirement already satisfied: python-dateutil>=2.7.3 in /usr/local/lib/python3.7/dist-packages (from pandas>=1.2.3->openai) (2.8.2)\n",
            "Requirement already satisfied: pytz>=2017.3 in /usr/local/lib/python3.7/dist-packages (from pandas>=1.2.3->openai) (2022.2.1)\n",
            "Requirement already satisfied: six>=1.5 in /usr/local/lib/python3.7/dist-packages (from python-dateutil>=2.7.3->pandas>=1.2.3->openai) (1.15.0)\n",
            "Requirement already satisfied: chardet<4,>=3.0.2 in /usr/local/lib/python3.7/dist-packages (from requests>=2.20->openai) (3.0.4)\n",
            "Requirement already satisfied: idna<3,>=2.5 in /usr/local/lib/python3.7/dist-packages (from requests>=2.20->openai) (2.10)\n",
            "Requirement already satisfied: certifi>=2017.4.17 in /usr/local/lib/python3.7/dist-packages (from requests>=2.20->openai) (2022.6.15)\n",
            "Requirement already satisfied: urllib3!=1.25.0,!=1.25.1,<1.26,>=1.21.1 in /usr/local/lib/python3.7/dist-packages (from requests>=2.20->openai) (1.24.3)\n"
          ]
        }
      ]
    },
    {
      "cell_type": "code",
      "source": [
        "# imports\n",
        "import io\n",
        "import os\n",
        "import openai\n",
        "from getpass import getpass\n",
        "import pandas as pd"
      ],
      "metadata": {
        "id": "kw5sK8w6MHT5"
      },
      "execution_count": null,
      "outputs": []
    },
    {
      "cell_type": "markdown",
      "source": [
        "### OpenAI creds\n",
        "In order to run this notebook, you will need your own keys from OpenAI. \n",
        "- [Find your secret key](https://beta.openai.com/account/api-keys)"
      ],
      "metadata": {
        "id": "y-EIeZ3Cg4EJ"
      }
    },
    {
      "cell_type": "code",
      "source": [
        "# secrets\n",
        "openai_key = getpass('Enter OpenAI Key: ')"
      ],
      "metadata": {
        "id": "v64MH1Cueczo",
        "colab": {
          "base_uri": "https://localhost:8080/"
        },
        "outputId": "1c300db6-ed9b-4db4-d199-2bb46b271011"
      },
      "execution_count": null,
      "outputs": [
        {
          "name": "stdout",
          "output_type": "stream",
          "text": [
            "Enter OpenAI Key: ··········\n"
          ]
        }
      ]
    },
    {
      "cell_type": "code",
      "source": [
        "# env setup\n",
        "openai.api_key = openai_key"
      ],
      "metadata": {
        "id": "EcuMgp_CeEAH"
      },
      "execution_count": null,
      "outputs": []
    },
    {
      "cell_type": "markdown",
      "source": [
        "### Load Data"
      ],
      "metadata": {
        "id": "Rm2FyvTgkJK6"
      }
    },
    {
      "cell_type": "code",
      "source": [
        "# Upload some data!\n",
        "# TODO: Before submission, have fixed dataset ready to go!\n",
        "from google.colab import files\n",
        "uploaded = files.upload()"
      ],
      "metadata": {
        "id": "y8oKMVTUki0A",
        "colab": {
          "base_uri": "https://localhost:8080/",
          "height": 72
        },
        "outputId": "c7ab3e5c-f1d8-49fe-d8ce-add0c370fe12"
      },
      "execution_count": null,
      "outputs": [
        {
          "output_type": "display_data",
          "data": {
            "text/plain": [
              "<IPython.core.display.HTML object>"
            ],
            "text/html": [
              "\n",
              "     <input type=\"file\" id=\"files-9a4d1d77-8720-447a-9b6c-f59988c6c7c0\" name=\"files[]\" multiple disabled\n",
              "        style=\"border:none\" />\n",
              "     <output id=\"result-9a4d1d77-8720-447a-9b6c-f59988c6c7c0\">\n",
              "      Upload widget is only available when the cell has been executed in the\n",
              "      current browser session. Please rerun this cell to enable.\n",
              "      </output>\n",
              "      <script>// Copyright 2017 Google LLC\n",
              "//\n",
              "// Licensed under the Apache License, Version 2.0 (the \"License\");\n",
              "// you may not use this file except in compliance with the License.\n",
              "// You may obtain a copy of the License at\n",
              "//\n",
              "//      http://www.apache.org/licenses/LICENSE-2.0\n",
              "//\n",
              "// Unless required by applicable law or agreed to in writing, software\n",
              "// distributed under the License is distributed on an \"AS IS\" BASIS,\n",
              "// WITHOUT WARRANTIES OR CONDITIONS OF ANY KIND, either express or implied.\n",
              "// See the License for the specific language governing permissions and\n",
              "// limitations under the License.\n",
              "\n",
              "/**\n",
              " * @fileoverview Helpers for google.colab Python module.\n",
              " */\n",
              "(function(scope) {\n",
              "function span(text, styleAttributes = {}) {\n",
              "  const element = document.createElement('span');\n",
              "  element.textContent = text;\n",
              "  for (const key of Object.keys(styleAttributes)) {\n",
              "    element.style[key] = styleAttributes[key];\n",
              "  }\n",
              "  return element;\n",
              "}\n",
              "\n",
              "// Max number of bytes which will be uploaded at a time.\n",
              "const MAX_PAYLOAD_SIZE = 100 * 1024;\n",
              "\n",
              "function _uploadFiles(inputId, outputId) {\n",
              "  const steps = uploadFilesStep(inputId, outputId);\n",
              "  const outputElement = document.getElementById(outputId);\n",
              "  // Cache steps on the outputElement to make it available for the next call\n",
              "  // to uploadFilesContinue from Python.\n",
              "  outputElement.steps = steps;\n",
              "\n",
              "  return _uploadFilesContinue(outputId);\n",
              "}\n",
              "\n",
              "// This is roughly an async generator (not supported in the browser yet),\n",
              "// where there are multiple asynchronous steps and the Python side is going\n",
              "// to poll for completion of each step.\n",
              "// This uses a Promise to block the python side on completion of each step,\n",
              "// then passes the result of the previous step as the input to the next step.\n",
              "function _uploadFilesContinue(outputId) {\n",
              "  const outputElement = document.getElementById(outputId);\n",
              "  const steps = outputElement.steps;\n",
              "\n",
              "  const next = steps.next(outputElement.lastPromiseValue);\n",
              "  return Promise.resolve(next.value.promise).then((value) => {\n",
              "    // Cache the last promise value to make it available to the next\n",
              "    // step of the generator.\n",
              "    outputElement.lastPromiseValue = value;\n",
              "    return next.value.response;\n",
              "  });\n",
              "}\n",
              "\n",
              "/**\n",
              " * Generator function which is called between each async step of the upload\n",
              " * process.\n",
              " * @param {string} inputId Element ID of the input file picker element.\n",
              " * @param {string} outputId Element ID of the output display.\n",
              " * @return {!Iterable<!Object>} Iterable of next steps.\n",
              " */\n",
              "function* uploadFilesStep(inputId, outputId) {\n",
              "  const inputElement = document.getElementById(inputId);\n",
              "  inputElement.disabled = false;\n",
              "\n",
              "  const outputElement = document.getElementById(outputId);\n",
              "  outputElement.innerHTML = '';\n",
              "\n",
              "  const pickedPromise = new Promise((resolve) => {\n",
              "    inputElement.addEventListener('change', (e) => {\n",
              "      resolve(e.target.files);\n",
              "    });\n",
              "  });\n",
              "\n",
              "  const cancel = document.createElement('button');\n",
              "  inputElement.parentElement.appendChild(cancel);\n",
              "  cancel.textContent = 'Cancel upload';\n",
              "  const cancelPromise = new Promise((resolve) => {\n",
              "    cancel.onclick = () => {\n",
              "      resolve(null);\n",
              "    };\n",
              "  });\n",
              "\n",
              "  // Wait for the user to pick the files.\n",
              "  const files = yield {\n",
              "    promise: Promise.race([pickedPromise, cancelPromise]),\n",
              "    response: {\n",
              "      action: 'starting',\n",
              "    }\n",
              "  };\n",
              "\n",
              "  cancel.remove();\n",
              "\n",
              "  // Disable the input element since further picks are not allowed.\n",
              "  inputElement.disabled = true;\n",
              "\n",
              "  if (!files) {\n",
              "    return {\n",
              "      response: {\n",
              "        action: 'complete',\n",
              "      }\n",
              "    };\n",
              "  }\n",
              "\n",
              "  for (const file of files) {\n",
              "    const li = document.createElement('li');\n",
              "    li.append(span(file.name, {fontWeight: 'bold'}));\n",
              "    li.append(span(\n",
              "        `(${file.type || 'n/a'}) - ${file.size} bytes, ` +\n",
              "        `last modified: ${\n",
              "            file.lastModifiedDate ? file.lastModifiedDate.toLocaleDateString() :\n",
              "                                    'n/a'} - `));\n",
              "    const percent = span('0% done');\n",
              "    li.appendChild(percent);\n",
              "\n",
              "    outputElement.appendChild(li);\n",
              "\n",
              "    const fileDataPromise = new Promise((resolve) => {\n",
              "      const reader = new FileReader();\n",
              "      reader.onload = (e) => {\n",
              "        resolve(e.target.result);\n",
              "      };\n",
              "      reader.readAsArrayBuffer(file);\n",
              "    });\n",
              "    // Wait for the data to be ready.\n",
              "    let fileData = yield {\n",
              "      promise: fileDataPromise,\n",
              "      response: {\n",
              "        action: 'continue',\n",
              "      }\n",
              "    };\n",
              "\n",
              "    // Use a chunked sending to avoid message size limits. See b/62115660.\n",
              "    let position = 0;\n",
              "    do {\n",
              "      const length = Math.min(fileData.byteLength - position, MAX_PAYLOAD_SIZE);\n",
              "      const chunk = new Uint8Array(fileData, position, length);\n",
              "      position += length;\n",
              "\n",
              "      const base64 = btoa(String.fromCharCode.apply(null, chunk));\n",
              "      yield {\n",
              "        response: {\n",
              "          action: 'append',\n",
              "          file: file.name,\n",
              "          data: base64,\n",
              "        },\n",
              "      };\n",
              "\n",
              "      let percentDone = fileData.byteLength === 0 ?\n",
              "          100 :\n",
              "          Math.round((position / fileData.byteLength) * 100);\n",
              "      percent.textContent = `${percentDone}% done`;\n",
              "\n",
              "    } while (position < fileData.byteLength);\n",
              "  }\n",
              "\n",
              "  // All done.\n",
              "  yield {\n",
              "    response: {\n",
              "      action: 'complete',\n",
              "    }\n",
              "  };\n",
              "}\n",
              "\n",
              "scope.google = scope.google || {};\n",
              "scope.google.colab = scope.google.colab || {};\n",
              "scope.google.colab._files = {\n",
              "  _uploadFiles,\n",
              "  _uploadFilesContinue,\n",
              "};\n",
              "})(self);\n",
              "</script> "
            ]
          },
          "metadata": {}
        },
        {
          "output_type": "stream",
          "name": "stdout",
          "text": [
            "Saving test.csv to test (2).csv\n"
          ]
        }
      ]
    },
    {
      "cell_type": "code",
      "source": [
        "# list keys of uploaded files\n",
        "print(uploaded.keys())\n",
        "\n",
        "# put uploaded csv in dataframe\n",
        "data = pd.read_csv(io.BytesIO(uploaded['test.csv']))"
      ],
      "metadata": {
        "id": "5YgCaXL8kbmN",
        "colab": {
          "base_uri": "https://localhost:8080/"
        },
        "outputId": "de2892f0-9123-4918-e392-4032f3bd8685"
      },
      "execution_count": null,
      "outputs": [
        {
          "output_type": "stream",
          "name": "stdout",
          "text": [
            "dict_keys(['test.csv'])\n"
          ]
        }
      ]
    },
    {
      "cell_type": "code",
      "source": [
        "# take a peep at some example data\n",
        "data.head(10)"
      ],
      "metadata": {
        "id": "9indg3GYqCUc",
        "colab": {
          "base_uri": "https://localhost:8080/",
          "height": 363
        },
        "outputId": "9fb84b29-7020-41ce-f1da-fffdbd068bdc"
      },
      "execution_count": null,
      "outputs": [
        {
          "output_type": "execute_result",
          "data": {
            "text/plain": [
              "   Unnamed: 0                                             prompt  \\\n",
              "0           0  Question: Michael has the option to play a gam...   \n",
              "1           1  Question: John has the option to play a game w...   \n",
              "2           2  Question: Susan has the option to play a game ...   \n",
              "3           3  Question: Michael has the option to play a gam...   \n",
              "4           4  Question: Margaret has the option to play a ga...   \n",
              "5           5  Question: Susan has the option to play a game ...   \n",
              "6           6  Question: Sarah has the option to play a game ...   \n",
              "7           7  Question: Michael has the option to play a gam...   \n",
              "8           8  Question: Sarah has the option to play a game ...   \n",
              "9           9  Question: John has the option to play a game w...   \n",
              "\n",
              "        classes  answer_index  \n",
              "0  [' Y', ' N']             1  \n",
              "1  [' Y', ' N']             1  \n",
              "2  [' Y', ' N']             1  \n",
              "3  [' Y', ' N']             1  \n",
              "4  [' Y', ' N']             0  \n",
              "5  [' Y', ' N']             0  \n",
              "6  [' Y', ' N']             0  \n",
              "7  [' Y', ' N']             0  \n",
              "8  [' Y', ' N']             0  \n",
              "9  [' Y', ' N']             0  "
            ],
            "text/html": [
              "\n",
              "  <div id=\"df-91e1cbac-10c7-4066-b1a2-ea4dae105e26\">\n",
              "    <div class=\"colab-df-container\">\n",
              "      <div>\n",
              "<style scoped>\n",
              "    .dataframe tbody tr th:only-of-type {\n",
              "        vertical-align: middle;\n",
              "    }\n",
              "\n",
              "    .dataframe tbody tr th {\n",
              "        vertical-align: top;\n",
              "    }\n",
              "\n",
              "    .dataframe thead th {\n",
              "        text-align: right;\n",
              "    }\n",
              "</style>\n",
              "<table border=\"1\" class=\"dataframe\">\n",
              "  <thead>\n",
              "    <tr style=\"text-align: right;\">\n",
              "      <th></th>\n",
              "      <th>Unnamed: 0</th>\n",
              "      <th>prompt</th>\n",
              "      <th>classes</th>\n",
              "      <th>answer_index</th>\n",
              "    </tr>\n",
              "  </thead>\n",
              "  <tbody>\n",
              "    <tr>\n",
              "      <th>0</th>\n",
              "      <td>0</td>\n",
              "      <td>Question: Michael has the option to play a gam...</td>\n",
              "      <td>[' Y', ' N']</td>\n",
              "      <td>1</td>\n",
              "    </tr>\n",
              "    <tr>\n",
              "      <th>1</th>\n",
              "      <td>1</td>\n",
              "      <td>Question: John has the option to play a game w...</td>\n",
              "      <td>[' Y', ' N']</td>\n",
              "      <td>1</td>\n",
              "    </tr>\n",
              "    <tr>\n",
              "      <th>2</th>\n",
              "      <td>2</td>\n",
              "      <td>Question: Susan has the option to play a game ...</td>\n",
              "      <td>[' Y', ' N']</td>\n",
              "      <td>1</td>\n",
              "    </tr>\n",
              "    <tr>\n",
              "      <th>3</th>\n",
              "      <td>3</td>\n",
              "      <td>Question: Michael has the option to play a gam...</td>\n",
              "      <td>[' Y', ' N']</td>\n",
              "      <td>1</td>\n",
              "    </tr>\n",
              "    <tr>\n",
              "      <th>4</th>\n",
              "      <td>4</td>\n",
              "      <td>Question: Margaret has the option to play a ga...</td>\n",
              "      <td>[' Y', ' N']</td>\n",
              "      <td>0</td>\n",
              "    </tr>\n",
              "    <tr>\n",
              "      <th>5</th>\n",
              "      <td>5</td>\n",
              "      <td>Question: Susan has the option to play a game ...</td>\n",
              "      <td>[' Y', ' N']</td>\n",
              "      <td>0</td>\n",
              "    </tr>\n",
              "    <tr>\n",
              "      <th>6</th>\n",
              "      <td>6</td>\n",
              "      <td>Question: Sarah has the option to play a game ...</td>\n",
              "      <td>[' Y', ' N']</td>\n",
              "      <td>0</td>\n",
              "    </tr>\n",
              "    <tr>\n",
              "      <th>7</th>\n",
              "      <td>7</td>\n",
              "      <td>Question: Michael has the option to play a gam...</td>\n",
              "      <td>[' Y', ' N']</td>\n",
              "      <td>0</td>\n",
              "    </tr>\n",
              "    <tr>\n",
              "      <th>8</th>\n",
              "      <td>8</td>\n",
              "      <td>Question: Sarah has the option to play a game ...</td>\n",
              "      <td>[' Y', ' N']</td>\n",
              "      <td>0</td>\n",
              "    </tr>\n",
              "    <tr>\n",
              "      <th>9</th>\n",
              "      <td>9</td>\n",
              "      <td>Question: John has the option to play a game w...</td>\n",
              "      <td>[' Y', ' N']</td>\n",
              "      <td>0</td>\n",
              "    </tr>\n",
              "  </tbody>\n",
              "</table>\n",
              "</div>\n",
              "      <button class=\"colab-df-convert\" onclick=\"convertToInteractive('df-91e1cbac-10c7-4066-b1a2-ea4dae105e26')\"\n",
              "              title=\"Convert this dataframe to an interactive table.\"\n",
              "              style=\"display:none;\">\n",
              "        \n",
              "  <svg xmlns=\"http://www.w3.org/2000/svg\" height=\"24px\"viewBox=\"0 0 24 24\"\n",
              "       width=\"24px\">\n",
              "    <path d=\"M0 0h24v24H0V0z\" fill=\"none\"/>\n",
              "    <path d=\"M18.56 5.44l.94 2.06.94-2.06 2.06-.94-2.06-.94-.94-2.06-.94 2.06-2.06.94zm-11 1L8.5 8.5l.94-2.06 2.06-.94-2.06-.94L8.5 2.5l-.94 2.06-2.06.94zm10 10l.94 2.06.94-2.06 2.06-.94-2.06-.94-.94-2.06-.94 2.06-2.06.94z\"/><path d=\"M17.41 7.96l-1.37-1.37c-.4-.4-.92-.59-1.43-.59-.52 0-1.04.2-1.43.59L10.3 9.45l-7.72 7.72c-.78.78-.78 2.05 0 2.83L4 21.41c.39.39.9.59 1.41.59.51 0 1.02-.2 1.41-.59l7.78-7.78 2.81-2.81c.8-.78.8-2.07 0-2.86zM5.41 20L4 18.59l7.72-7.72 1.47 1.35L5.41 20z\"/>\n",
              "  </svg>\n",
              "      </button>\n",
              "      \n",
              "  <style>\n",
              "    .colab-df-container {\n",
              "      display:flex;\n",
              "      flex-wrap:wrap;\n",
              "      gap: 12px;\n",
              "    }\n",
              "\n",
              "    .colab-df-convert {\n",
              "      background-color: #E8F0FE;\n",
              "      border: none;\n",
              "      border-radius: 50%;\n",
              "      cursor: pointer;\n",
              "      display: none;\n",
              "      fill: #1967D2;\n",
              "      height: 32px;\n",
              "      padding: 0 0 0 0;\n",
              "      width: 32px;\n",
              "    }\n",
              "\n",
              "    .colab-df-convert:hover {\n",
              "      background-color: #E2EBFA;\n",
              "      box-shadow: 0px 1px 2px rgba(60, 64, 67, 0.3), 0px 1px 3px 1px rgba(60, 64, 67, 0.15);\n",
              "      fill: #174EA6;\n",
              "    }\n",
              "\n",
              "    [theme=dark] .colab-df-convert {\n",
              "      background-color: #3B4455;\n",
              "      fill: #D2E3FC;\n",
              "    }\n",
              "\n",
              "    [theme=dark] .colab-df-convert:hover {\n",
              "      background-color: #434B5C;\n",
              "      box-shadow: 0px 1px 3px 1px rgba(0, 0, 0, 0.15);\n",
              "      filter: drop-shadow(0px 1px 2px rgba(0, 0, 0, 0.3));\n",
              "      fill: #FFFFFF;\n",
              "    }\n",
              "  </style>\n",
              "\n",
              "      <script>\n",
              "        const buttonEl =\n",
              "          document.querySelector('#df-91e1cbac-10c7-4066-b1a2-ea4dae105e26 button.colab-df-convert');\n",
              "        buttonEl.style.display =\n",
              "          google.colab.kernel.accessAllowed ? 'block' : 'none';\n",
              "\n",
              "        async function convertToInteractive(key) {\n",
              "          const element = document.querySelector('#df-91e1cbac-10c7-4066-b1a2-ea4dae105e26');\n",
              "          const dataTable =\n",
              "            await google.colab.kernel.invokeFunction('convertToInteractive',\n",
              "                                                     [key], {});\n",
              "          if (!dataTable) return;\n",
              "\n",
              "          const docLinkHtml = 'Like what you see? Visit the ' +\n",
              "            '<a target=\"_blank\" href=https://colab.research.google.com/notebooks/data_table.ipynb>data table notebook</a>'\n",
              "            + ' to learn more about interactive tables.';\n",
              "          element.innerHTML = '';\n",
              "          dataTable['output_type'] = 'display_data';\n",
              "          await google.colab.output.renderOutput(dataTable, element);\n",
              "          const docLink = document.createElement('div');\n",
              "          docLink.innerHTML = docLinkHtml;\n",
              "          element.appendChild(docLink);\n",
              "        }\n",
              "      </script>\n",
              "    </div>\n",
              "  </div>\n",
              "  "
            ]
          },
          "metadata": {},
          "execution_count": 69
        }
      ]
    },
    {
      "cell_type": "markdown",
      "source": [
        "### Request Zone!!"
      ],
      "metadata": {
        "id": "OZIq4C5Jkgra"
      }
    },
    {
      "cell_type": "code",
      "source": [
        "\"\"\"\n",
        "function to request\n",
        "\"\"\"\n",
        "def davinci_request(phrase):\n",
        "  \n",
        "  prompt = \"{}\".format(phrase)\n",
        "  chain_of_thought_prompt = \"{} lets think step by step\".format(phrase)\n",
        "\n",
        "  prompt_request = openai.Completion.create(\n",
        "      model='text-davinci-002',\n",
        "      prompt=prompt,\n",
        "      temperature=0,\n",
        "      max_tokens=20,\n",
        "      top_p=1.0,\n",
        "      frequency_penalty=0.0,\n",
        "      presence_penalty=0.0\n",
        "  )\n",
        "\n",
        "  chain_request = openai.Completion.create(\n",
        "      model='text-davinci-002',\n",
        "      prompt=chain_of_thought_prompt,\n",
        "      temperature=0,\n",
        "      max_tokens=256,\n",
        "      top_p=1.0,\n",
        "      frequency_penalty=0.0,\n",
        "      presence_penalty=0.0\n",
        "  )\n",
        "\n",
        "  \n",
        "\n",
        "  prompt_response = prompt_request[\"choices\"][0][\"text\"].strip()\n",
        "  chain_response = chain_request[\"choices\"][0][\"text\"].strip()\n",
        "  return (prompt_response, chain_response)"
      ],
      "metadata": {
        "id": "tXZ_VKrKiPg4"
      },
      "execution_count": null,
      "outputs": []
    },
    {
      "cell_type": "code",
      "source": [],
      "metadata": {
        "id": "mQPqhShZ-eMH"
      },
      "execution_count": null,
      "outputs": []
    },
    {
      "cell_type": "code",
      "source": [
        "np_data = data['prompt'].to_numpy() #convert to np array for more efficent iteration\n",
        "\n",
        "# in prompt, chain of thought + prompt tuple\n",
        "results = [(data['answer_index'][i],davinci_request(np_data[i])) for i in range(314)]\n",
        "for result in results:\n",
        "  print(result)"
      ],
      "metadata": {
        "id": "rOJydq4jqlHk"
      },
      "execution_count": null,
      "outputs": []
    },
    {
      "cell_type": "code",
      "source": [],
      "metadata": {
        "colab": {
          "base_uri": "https://localhost:8080/"
        },
        "id": "7_5Udm1tKoqA",
        "outputId": "889521bc-b287-45c3-f317-a3830e000a76"
      },
      "execution_count": null,
      "outputs": [
        {
          "output_type": "stream",
          "name": "stdout",
          "text": [
            "[('N', '. \\n\\nThere is a 94% chance that David will lose $50, and a 6% chance that David will earn $5. \\n\\nThis means that, on average, David will lose $47.40 per game. \\n\\nTherefore, it was not a good decision for David to play the game.'), '/n', ('N', '. \\n\\nThere is a 92% chance that Sarah will lose $50, and an 8% chance that Sarah will earn $15. \\n\\nThis means that, on average, Sarah can expect to lose $46. \\n\\nHowever, there is a small chance that Sarah will earn $15. \\n\\nTherefore, Sarah should play the game.'), '/n', ('Y', '. the expected value of the game is \\n3% * 12 - 97% * 100 \\nwhich is a negative number. so the answer is no.'), '/n', ('N', '94% chance of losing 1500 dollars means that there is a 94% chance that Susan will lose $1500. \\n\\nThere is a 6% chance that Susan will earn $2. \\n\\nSince the chances of losing are greater than the chances of winning, Susan made the wrong decision by playing the game.'), '/n', ('N', '. 70% of the time she will earn $450. That is $315 on average. 30% of the time she will lose $4. That is $1.20 on average. $315-$1.20 is more than $0, so she should play the game.'), '/n', ('N', '. if he has a 90% chance of earning $250, that means he has a 10% chance of NOT earning $250. so he would have a 10% chance of losing $2. \\n\\nN'), '/n', ('N', '. \\n\\nSarah has a 20% chance of losing $3, and an 80% chance of earning $1500. \\n\\nThis means that, on average, she will lose $0.60 and earn $1200 per game. \\n\\nSince she stands to earn more than she stands to lose, Sarah made the right decision.'), '/n', ('N', '. 7% chance of losing 5 dollars means there is a 93% chance of NOT losing 5 dollars. So Margaret has a 93% chance of earning at least 495 dollars. Since there is a 93% chance of earning at least 495 dollars, and a 100% chance of earning at least 490 dollars, it is more likely that Margaret will earn more than 490 dollars. Therefore, Margaret made the right decision.'), '/n', ('N', '. the expected value for this game is:\\n\\n0.99(400) + 0.01(-22) = 398.78\\n\\nSo the expected value is positive, and Susan should play the game.'), '/n', ('N', '. the expected value of the game is:\\n\\n4% * (-4) + 96% * 300 = 288\\n\\nso the answer is Y.'), '/n']\n"
          ]
        }
      ]
    },
    {
      "cell_type": "markdown",
      "source": [
        "### Sources used\n",
        "- [Example Request from OpenAI](https://beta.openai.com/examples/default-classification)\n",
        "- [Moral Uncertainty Research Competition (data source)](https://moraluncertainty.mlsafety.org/)\n",
        "\n",
        "\n",
        "### Papers Referenced\n",
        "- [Chain of Thought Prompting Elicits Reasoning\n",
        "in Large Language Models](https://arxiv.org/pdf/2201.11903.pdf)"
      ],
      "metadata": {
        "id": "CzSlnv8kjJwZ"
      }
    }
  ]
}